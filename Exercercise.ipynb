{
  "nbformat": 4,
  "nbformat_minor": 0,
  "metadata": {
    "colab": {
      "provenance": []
    },
    "kernelspec": {
      "name": "python3",
      "display_name": "Python 3"
    },
    "language_info": {
      "name": "python"
    }
  },
  "cells": [
    {
      "cell_type": "markdown",
      "source": [
        "# 🛠 Exercises"
      ],
      "metadata": {
        "id": "Q2Tn61yVvi-Q"
      }
    },
    {
      "cell_type": "code",
      "execution_count": 3,
      "metadata": {
        "colab": {
          "base_uri": "https://localhost:8080/"
        },
        "id": "Ln4iqcYdvcw5",
        "outputId": "bb18090f-da93-4b6a-a3c8-096dd099625e"
      },
      "outputs": [
        {
          "output_type": "execute_result",
          "data": {
            "text/plain": [
              "(<tf.Tensor: shape=(), dtype=int32, numpy=3>,\n",
              " <tf.Tensor: shape=(2,), dtype=int32, numpy=array([10,  7], dtype=int32)>,\n",
              " <tf.Tensor: shape=(2, 2), dtype=int32, numpy=\n",
              " array([[3, 7],\n",
              "        [5, 8]], dtype=int32)>)"
            ]
          },
          "metadata": {},
          "execution_count": 3
        }
      ],
      "source": [
        "import tensorflow as tf\n",
        "\n",
        "scalar = tf.constant(3)\n",
        "vector = tf.constant([10,7])\n",
        "matrix = tf.constant([[3,7],[5,8]])\n",
        "\n",
        "scalar, vector, matrix"
      ]
    },
    {
      "cell_type": "code",
      "source": [
        "tf.shape(scalar).numpy(), tf.rank(scalar).numpy(),tf.size(scalar).numpy()"
      ],
      "metadata": {
        "colab": {
          "base_uri": "https://localhost:8080/"
        },
        "id": "wiY0rNoyxXKE",
        "outputId": "f228f838-521e-4cb6-dc50-c388817edb5e"
      },
      "execution_count": 13,
      "outputs": [
        {
          "output_type": "execute_result",
          "data": {
            "text/plain": [
              "(array([], dtype=int32), 0, 1)"
            ]
          },
          "metadata": {},
          "execution_count": 13
        }
      ]
    },
    {
      "cell_type": "code",
      "source": [
        "tf.shape(vector).numpy(), tf.rank(vector).numpy(),tf.size(vector).numpy()"
      ],
      "metadata": {
        "colab": {
          "base_uri": "https://localhost:8080/"
        },
        "id": "V67ygongxalG",
        "outputId": "8ea559c3-5ecd-4b0a-d4a6-e31cdc32cee6"
      },
      "execution_count": 14,
      "outputs": [
        {
          "output_type": "execute_result",
          "data": {
            "text/plain": [
              "(array([2], dtype=int32), 1, 2)"
            ]
          },
          "metadata": {},
          "execution_count": 14
        }
      ]
    },
    {
      "cell_type": "code",
      "source": [
        "tf.shape(matrix).numpy(), tf.rank(matrix).numpy(),tf.size(matrix).numpy()"
      ],
      "metadata": {
        "colab": {
          "base_uri": "https://localhost:8080/"
        },
        "id": "CoQKyfDLwQ5M",
        "outputId": "544bb9ca-a71d-4bba-a055-26385f0ceffa"
      },
      "execution_count": 15,
      "outputs": [
        {
          "output_type": "execute_result",
          "data": {
            "text/plain": [
              "(array([2, 2], dtype=int32), 2, 4)"
            ]
          },
          "metadata": {},
          "execution_count": 15
        }
      ]
    },
    {
      "cell_type": "code",
      "source": [
        "A = tf.random.uniform(shape=(5, 300), minval=0, maxval=1)\n",
        "B = tf.random.uniform(shape=(5, 300), minval=0, maxval=1)\n",
        "\n",
        "A"
      ],
      "metadata": {
        "colab": {
          "base_uri": "https://localhost:8080/"
        },
        "id": "5jq-AEsKxoI0",
        "outputId": "cfc19372-85d6-429b-ba5c-3c8a1fb05f44"
      },
      "execution_count": 18,
      "outputs": [
        {
          "output_type": "execute_result",
          "data": {
            "text/plain": [
              "<tf.Tensor: shape=(5, 300), dtype=float32, numpy=\n",
              "array([[0.12390947, 0.5307603 , 0.0367285 , ..., 0.4082111 , 0.394413  ,\n",
              "        0.20036209],\n",
              "       [0.539798  , 0.7605978 , 0.9670681 , ..., 0.7102636 , 0.21620286,\n",
              "        0.6561873 ],\n",
              "       [0.6120064 , 0.7608795 , 0.02416432, ..., 0.71754825, 0.5684476 ,\n",
              "        0.45940912],\n",
              "       [0.16957402, 0.94188297, 0.5865966 , ..., 0.32317436, 0.44076097,\n",
              "        0.259053  ],\n",
              "       [0.30204237, 0.22864926, 0.72114897, ..., 0.58788204, 0.42046213,\n",
              "        0.1279335 ]], dtype=float32)>"
            ]
          },
          "metadata": {},
          "execution_count": 18
        }
      ]
    },
    {
      "cell_type": "code",
      "source": [
        "tf.matmul(A, tf.reshape(B,shape=(300,5)))"
      ],
      "metadata": {
        "colab": {
          "base_uri": "https://localhost:8080/"
        },
        "id": "nqv9l3WZysWL",
        "outputId": "2ca9b35f-0de6-4519-819e-fae643c946a5"
      },
      "execution_count": 22,
      "outputs": [
        {
          "output_type": "execute_result",
          "data": {
            "text/plain": [
              "<tf.Tensor: shape=(5, 5), dtype=float32, numpy=\n",
              "array([[70.88577 , 69.71536 , 68.952126, 71.82693 , 73.67316 ],\n",
              "       [73.48217 , 72.35834 , 73.23366 , 72.355354, 74.68624 ],\n",
              "       [75.19649 , 71.0621  , 71.236786, 75.00189 , 76.661095],\n",
              "       [76.79691 , 73.84659 , 74.695786, 78.067535, 77.70268 ],\n",
              "       [75.72052 , 73.895424, 75.61371 , 76.06999 , 73.89123 ]],\n",
              "      dtype=float32)>"
            ]
          },
          "metadata": {},
          "execution_count": 22
        }
      ]
    },
    {
      "cell_type": "code",
      "source": [
        "tf.multiply(A,B)"
      ],
      "metadata": {
        "colab": {
          "base_uri": "https://localhost:8080/"
        },
        "id": "x1CRE-MHzRNz",
        "outputId": "053f77a8-2987-4c11-e2a0-94a554abfb87"
      },
      "execution_count": 23,
      "outputs": [
        {
          "output_type": "execute_result",
          "data": {
            "text/plain": [
              "<tf.Tensor: shape=(5, 300), dtype=float32, numpy=\n",
              "array([[6.91851601e-04, 8.41566101e-02, 2.59778611e-02, ...,\n",
              "        3.16878587e-01, 1.74065605e-02, 1.13641515e-01],\n",
              "       [3.31524760e-01, 6.31680965e-01, 2.12850228e-01, ...,\n",
              "        2.00587004e-01, 2.08858490e-01, 3.23331624e-01],\n",
              "       [3.95091981e-01, 1.28925994e-01, 3.79046402e-03, ...,\n",
              "        4.28866535e-01, 1.75844654e-01, 2.25041300e-01],\n",
              "       [6.72801286e-02, 8.20730567e-01, 4.00431484e-01, ...,\n",
              "        3.38528715e-02, 1.58064991e-01, 3.08539458e-02],\n",
              "       [2.88608789e-01, 1.88504495e-02, 3.27376783e-01, ...,\n",
              "        3.32682014e-01, 6.16051182e-02, 5.66223487e-02]], dtype=float32)>"
            ]
          },
          "metadata": {},
          "execution_count": 23
        }
      ]
    },
    {
      "cell_type": "code",
      "source": [
        "C = tf.random.uniform(shape=(244,244,3),minval=0,maxval=1)\n",
        "C"
      ],
      "metadata": {
        "colab": {
          "base_uri": "https://localhost:8080/"
        },
        "id": "x9oKjwWozct6",
        "outputId": "a7cc4629-0811-4de3-dc07-5700e65c2bb0"
      },
      "execution_count": 25,
      "outputs": [
        {
          "output_type": "execute_result",
          "data": {
            "text/plain": [
              "<tf.Tensor: shape=(244, 244, 3), dtype=float32, numpy=\n",
              "array([[[0.75967574, 0.8971659 , 0.7664248 ],\n",
              "        [0.3147142 , 0.3281629 , 0.16159844],\n",
              "        [0.72007227, 0.12888026, 0.87043417],\n",
              "        ...,\n",
              "        [0.71442115, 0.5358821 , 0.5639274 ],\n",
              "        [0.1142168 , 0.05417979, 0.31612992],\n",
              "        [0.9852053 , 0.536499  , 0.97870016]],\n",
              "\n",
              "       [[0.2686926 , 0.4818747 , 0.2467345 ],\n",
              "        [0.92631567, 0.3607453 , 0.6993201 ],\n",
              "        [0.9402003 , 0.9757017 , 0.8807689 ],\n",
              "        ...,\n",
              "        [0.07710493, 0.54006374, 0.6176913 ],\n",
              "        [0.54691136, 0.06854546, 0.33102477],\n",
              "        [0.476272  , 0.8558936 , 0.53076756]],\n",
              "\n",
              "       [[0.3547206 , 0.9918977 , 0.6154301 ],\n",
              "        [0.8449985 , 0.738749  , 0.88668835],\n",
              "        [0.68082297, 0.4043461 , 0.65758765],\n",
              "        ...,\n",
              "        [0.46475434, 0.55061114, 0.8906232 ],\n",
              "        [0.39185858, 0.18317163, 0.56749344],\n",
              "        [0.82112956, 0.9311205 , 0.26033497]],\n",
              "\n",
              "       ...,\n",
              "\n",
              "       [[0.670467  , 0.27269447, 0.93324125],\n",
              "        [0.6793014 , 0.20824075, 0.9623778 ],\n",
              "        [0.5991546 , 0.51334643, 0.5811281 ],\n",
              "        ...,\n",
              "        [0.99977815, 0.48689723, 0.07526445],\n",
              "        [0.22843492, 0.4391575 , 0.8723055 ],\n",
              "        [0.8259218 , 0.85188806, 0.41362894]],\n",
              "\n",
              "       [[0.21343172, 0.98510504, 0.6109729 ],\n",
              "        [0.12467778, 0.3842634 , 0.46920562],\n",
              "        [0.18093753, 0.559245  , 0.76087844],\n",
              "        ...,\n",
              "        [0.63523746, 0.20492387, 0.08248687],\n",
              "        [0.8399346 , 0.58421075, 0.13917947],\n",
              "        [0.91044044, 0.24746084, 0.67722476]],\n",
              "\n",
              "       [[0.05347097, 0.24260712, 0.68921983],\n",
              "        [0.42742622, 0.5331491 , 0.63357556],\n",
              "        [0.7466415 , 0.03390789, 0.26614583],\n",
              "        ...,\n",
              "        [0.39694238, 0.6018189 , 0.7603388 ],\n",
              "        [0.5665884 , 0.40126514, 0.5967572 ],\n",
              "        [0.2659024 , 0.34885383, 0.66025925]]], dtype=float32)>"
            ]
          },
          "metadata": {},
          "execution_count": 25
        }
      ]
    },
    {
      "cell_type": "code",
      "source": [
        "tf.reduce_min(C).numpy()"
      ],
      "metadata": {
        "colab": {
          "base_uri": "https://localhost:8080/"
        },
        "id": "narz-MFqzv6w",
        "outputId": "98f2eda4-1f74-4d02-925a-c2e3ecf32edc"
      },
      "execution_count": 29,
      "outputs": [
        {
          "output_type": "execute_result",
          "data": {
            "text/plain": [
              "3.9339066e-06"
            ]
          },
          "metadata": {},
          "execution_count": 29
        }
      ]
    },
    {
      "cell_type": "code",
      "source": [
        "tf.reduce_max(C).numpy()"
      ],
      "metadata": {
        "colab": {
          "base_uri": "https://localhost:8080/"
        },
        "id": "qQuG_Y2Rz_9J",
        "outputId": "bacd4c29-cc69-43eb-d621-124b917e81e3"
      },
      "execution_count": 30,
      "outputs": [
        {
          "output_type": "execute_result",
          "data": {
            "text/plain": [
              "0.9999759"
            ]
          },
          "metadata": {},
          "execution_count": 30
        }
      ]
    },
    {
      "cell_type": "code",
      "source": [
        "D = tf.random.uniform(shape=(1,244,244,3),minval=0,maxval=1)\n",
        "D"
      ],
      "metadata": {
        "colab": {
          "base_uri": "https://localhost:8080/"
        },
        "id": "ZJvL-hRB0Pnu",
        "outputId": "f227501c-4297-492b-bf44-8858ec041039"
      },
      "execution_count": 31,
      "outputs": [
        {
          "output_type": "execute_result",
          "data": {
            "text/plain": [
              "<tf.Tensor: shape=(1, 244, 244, 3), dtype=float32, numpy=\n",
              "array([[[[0.95683134, 0.16213465, 0.8862431 ],\n",
              "         [0.17297947, 0.9751017 , 0.7780477 ],\n",
              "         [0.43602085, 0.07380152, 0.09792638],\n",
              "         ...,\n",
              "         [0.7656125 , 0.27975643, 0.8695469 ],\n",
              "         [0.27060318, 0.8882742 , 0.09115243],\n",
              "         [0.4721949 , 0.13312423, 0.4764316 ]],\n",
              "\n",
              "        [[0.37938118, 0.56791425, 0.15883005],\n",
              "         [0.13017738, 0.7807622 , 0.551703  ],\n",
              "         [0.92209744, 0.545156  , 0.60472226],\n",
              "         ...,\n",
              "         [0.6678307 , 0.3850987 , 0.41366768],\n",
              "         [0.55840266, 0.1509502 , 0.85788965],\n",
              "         [0.9201591 , 0.69396806, 0.09894025]],\n",
              "\n",
              "        [[0.10742605, 0.31090486, 0.09701478],\n",
              "         [0.13032663, 0.7211304 , 0.40520692],\n",
              "         [0.6186193 , 0.45486295, 0.69304204],\n",
              "         ...,\n",
              "         [0.1293639 , 0.9907198 , 0.43680632],\n",
              "         [0.12319517, 0.5597187 , 0.27652884],\n",
              "         [0.7816584 , 0.97770286, 0.9903791 ]],\n",
              "\n",
              "        ...,\n",
              "\n",
              "        [[0.74041855, 0.23813474, 0.17095923],\n",
              "         [0.64587474, 0.29017043, 0.09652233],\n",
              "         [0.60660934, 0.27838314, 0.46949506],\n",
              "         ...,\n",
              "         [0.85252094, 0.08564162, 0.2741655 ],\n",
              "         [0.34135258, 0.16569328, 0.2559272 ],\n",
              "         [0.775     , 0.30980814, 0.68732595]],\n",
              "\n",
              "        [[0.456357  , 0.7785274 , 0.5296471 ],\n",
              "         [0.8870785 , 0.03259134, 0.546124  ],\n",
              "         [0.86194813, 0.20992267, 0.91043305],\n",
              "         ...,\n",
              "         [0.73946655, 0.7138568 , 0.5074767 ],\n",
              "         [0.32208204, 0.70111716, 0.11367679],\n",
              "         [0.65988374, 0.37619376, 0.31464744]],\n",
              "\n",
              "        [[0.1510657 , 0.8761258 , 0.7350931 ],\n",
              "         [0.7470014 , 0.37401676, 0.72675264],\n",
              "         [0.29983413, 0.8928523 , 0.62351215],\n",
              "         ...,\n",
              "         [0.46953487, 0.11199236, 0.19692075],\n",
              "         [0.56809103, 0.53714633, 0.7826413 ],\n",
              "         [0.57060516, 0.9574088 , 0.7241416 ]]]], dtype=float32)>"
            ]
          },
          "metadata": {},
          "execution_count": 31
        }
      ]
    },
    {
      "cell_type": "code",
      "source": [
        "tf.squeeze(D)"
      ],
      "metadata": {
        "colab": {
          "base_uri": "https://localhost:8080/"
        },
        "id": "vWqNiypm0PmU",
        "outputId": "15af8bed-55c0-4094-ca0c-2b3d3ca1d5bc"
      },
      "execution_count": 32,
      "outputs": [
        {
          "output_type": "execute_result",
          "data": {
            "text/plain": [
              "<tf.Tensor: shape=(244, 244, 3), dtype=float32, numpy=\n",
              "array([[[0.95683134, 0.16213465, 0.8862431 ],\n",
              "        [0.17297947, 0.9751017 , 0.7780477 ],\n",
              "        [0.43602085, 0.07380152, 0.09792638],\n",
              "        ...,\n",
              "        [0.7656125 , 0.27975643, 0.8695469 ],\n",
              "        [0.27060318, 0.8882742 , 0.09115243],\n",
              "        [0.4721949 , 0.13312423, 0.4764316 ]],\n",
              "\n",
              "       [[0.37938118, 0.56791425, 0.15883005],\n",
              "        [0.13017738, 0.7807622 , 0.551703  ],\n",
              "        [0.92209744, 0.545156  , 0.60472226],\n",
              "        ...,\n",
              "        [0.6678307 , 0.3850987 , 0.41366768],\n",
              "        [0.55840266, 0.1509502 , 0.85788965],\n",
              "        [0.9201591 , 0.69396806, 0.09894025]],\n",
              "\n",
              "       [[0.10742605, 0.31090486, 0.09701478],\n",
              "        [0.13032663, 0.7211304 , 0.40520692],\n",
              "        [0.6186193 , 0.45486295, 0.69304204],\n",
              "        ...,\n",
              "        [0.1293639 , 0.9907198 , 0.43680632],\n",
              "        [0.12319517, 0.5597187 , 0.27652884],\n",
              "        [0.7816584 , 0.97770286, 0.9903791 ]],\n",
              "\n",
              "       ...,\n",
              "\n",
              "       [[0.74041855, 0.23813474, 0.17095923],\n",
              "        [0.64587474, 0.29017043, 0.09652233],\n",
              "        [0.60660934, 0.27838314, 0.46949506],\n",
              "        ...,\n",
              "        [0.85252094, 0.08564162, 0.2741655 ],\n",
              "        [0.34135258, 0.16569328, 0.2559272 ],\n",
              "        [0.775     , 0.30980814, 0.68732595]],\n",
              "\n",
              "       [[0.456357  , 0.7785274 , 0.5296471 ],\n",
              "        [0.8870785 , 0.03259134, 0.546124  ],\n",
              "        [0.86194813, 0.20992267, 0.91043305],\n",
              "        ...,\n",
              "        [0.73946655, 0.7138568 , 0.5074767 ],\n",
              "        [0.32208204, 0.70111716, 0.11367679],\n",
              "        [0.65988374, 0.37619376, 0.31464744]],\n",
              "\n",
              "       [[0.1510657 , 0.8761258 , 0.7350931 ],\n",
              "        [0.7470014 , 0.37401676, 0.72675264],\n",
              "        [0.29983413, 0.8928523 , 0.62351215],\n",
              "        ...,\n",
              "        [0.46953487, 0.11199236, 0.19692075],\n",
              "        [0.56809103, 0.53714633, 0.7826413 ],\n",
              "        [0.57060516, 0.9574088 , 0.7241416 ]]], dtype=float32)>"
            ]
          },
          "metadata": {},
          "execution_count": 32
        }
      ]
    },
    {
      "cell_type": "code",
      "source": [
        "E = tf.constant([5,6,1,2,8,9,3,4,6,0])\n",
        "\n",
        "print(\"The position of max value is:\", tf.argmax(E).numpy())\n",
        "print(\"The of max value is:\", E[tf.argmax(E).numpy()].numpy())\n",
        "\n",
        "#hard way to do it\n",
        "\n"
      ],
      "metadata": {
        "colab": {
          "base_uri": "https://localhost:8080/"
        },
        "id": "UniEo9Rc1NXs",
        "outputId": "14bca676-f431-4d1e-f7a5-bf96678c92c9"
      },
      "execution_count": 42,
      "outputs": [
        {
          "output_type": "stream",
          "name": "stdout",
          "text": [
            "The position of max value is: 5\n",
            "The of max value is: 9\n"
          ]
        }
      ]
    },
    {
      "cell_type": "code",
      "source": [
        "tf.one_hot(E,depth=10)"
      ],
      "metadata": {
        "colab": {
          "base_uri": "https://localhost:8080/"
        },
        "id": "b1C3OTYO2WPj",
        "outputId": "c12e501f-5000-4b03-af13-68fa9d0950dd"
      },
      "execution_count": 44,
      "outputs": [
        {
          "output_type": "execute_result",
          "data": {
            "text/plain": [
              "<tf.Tensor: shape=(10, 10), dtype=float32, numpy=\n",
              "array([[0., 0., 0., 0., 0., 1., 0., 0., 0., 0.],\n",
              "       [0., 0., 0., 0., 0., 0., 1., 0., 0., 0.],\n",
              "       [0., 1., 0., 0., 0., 0., 0., 0., 0., 0.],\n",
              "       [0., 0., 1., 0., 0., 0., 0., 0., 0., 0.],\n",
              "       [0., 0., 0., 0., 0., 0., 0., 0., 1., 0.],\n",
              "       [0., 0., 0., 0., 0., 0., 0., 0., 0., 1.],\n",
              "       [0., 0., 0., 1., 0., 0., 0., 0., 0., 0.],\n",
              "       [0., 0., 0., 0., 1., 0., 0., 0., 0., 0.],\n",
              "       [0., 0., 0., 0., 0., 0., 1., 0., 0., 0.],\n",
              "       [1., 0., 0., 0., 0., 0., 0., 0., 0., 0.]], dtype=float32)>"
            ]
          },
          "metadata": {},
          "execution_count": 44
        }
      ]
    }
  ]
}